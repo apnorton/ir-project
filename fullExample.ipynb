{
 "cells": [
  {
   "cell_type": "code",
   "execution_count": 1,
   "metadata": {
    "collapsed": false
   },
   "outputs": [
    {
     "name": "stdout",
     "output_type": "stream",
     "text": [
      "False\n",
      "http://api.wolframalpha.com/v2/query?input=%28x%5E2+-+4%29&appid=834JUH-LUV8EVJ928&format=mathml\n",
      "http://api.wolframalpha.com/v2/query?input=%28x%5E2+-+4%29%28x%2B1%29%284+-+y%29&appid=834JUH-LUV8EVJ928&format=mathml\n"
     ]
    }
   ],
   "source": [
    "from lxml import etree\n",
    "from six.moves import urllib\n",
    "\n",
    "inputquery = \"(x^2 - 4)(x+1)(4 - y)\"\n",
    "appid = \"834JUH-LUV8EVJ928\"\n",
    "\n",
    "\n",
    "query = urllib.parse.urlencode(dict(\n",
    "    input=inputquery,\n",
    "    appid=appid\n",
    "))\n",
    "\n",
    "url = 'http://api.wolframalpha.com/v2/query?' + query + \"&format=mathml\"\n",
    "\n",
    "x = \"http://api.wolframalpha.com/v2/query?input=%28x%5E2+-+4%29&appid=834JUH-LUV8EVJ928&format=mathml\"\n",
    "print x == url\n",
    "print x\n",
    "print url\n",
    "#tree = etree.parse(\"http://api.wolframalpha.com/v2/query?input=%28x%5E2+-+4%29&appid=834JUH-LUV8EVJ928&format=mathml\")\n",
    "tree = etree.parse(url)\n",
    "\n",
    "\n",
    "def works(someXML):\n",
    "  #don't even open() the XSL file ...\n",
    "  xslt_tree = etree.parse(\"./mmltex.xsl\")\n",
    "  transform = etree.XSLT(xslt_tree)\n",
    "  result = transform(someXML)\n",
    "  return result\n",
    "\n",
    "\n",
    "l = tree.xpath(\"//pod[contains(@title, 'Alternate form')]\")[0]\n",
    "NSMAP = {'mw':'http://www.w3.org/1998/Math/MathML'}\n",
    "subpods = l.findall('.//mw:math', namespaces=NSMAP)\n",
    "forms = [works(pod) for pod in subpods]"
   ]
  },
  {
   "cell_type": "code",
   "execution_count": 2,
   "metadata": {
    "collapsed": false
   },
   "outputs": [
    {
     "name": "stdout",
     "output_type": "stream",
     "text": [
      "$\\left(x-2\\right)\\left(x+2\\right)\\left(x+1\\right)\\left(4-y\\right)$\n",
      "$x\\left(x\\left(x\\left(4-y\\right)-y+4\\right)+4y-16\\right)+4y-16$\n",
      "$\\left(x\\left(\\left(-x-1\\right)x+4\\right)+4\\right)y+x\\left(x\\left(4x+4\\right)-16\\right)-16$\n"
     ]
    }
   ],
   "source": [
    "for x in forms:\n",
    "    print x"
   ]
  },
  {
   "cell_type": "code",
   "execution_count": null,
   "metadata": {
    "collapsed": true
   },
   "outputs": [],
   "source": []
  }
 ],
 "metadata": {
  "kernelspec": {
   "display_name": "Python 2",
   "language": "python",
   "name": "python2"
  },
  "language_info": {
   "codemirror_mode": {
    "name": "ipython",
    "version": 2
   },
   "file_extension": ".py",
   "mimetype": "text/x-python",
   "name": "python",
   "nbconvert_exporter": "python",
   "pygments_lexer": "ipython2",
   "version": "2.7.10"
  }
 },
 "nbformat": 4,
 "nbformat_minor": 0
}
